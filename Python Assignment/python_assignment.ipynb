{
 "cells": [
  {
   "cell_type": "code",
   "execution_count": 4,
   "metadata": {},
   "outputs": [
    {
     "name": "stdout",
     "output_type": "stream",
     "text": [
      "The sum of the three numbers is: 6.0\n",
      "The average of the three numbers is: 2.0\n"
     ]
    }
   ],
   "source": [
    "\n",
    "def calculate_sum_and_average(num1, num2, num3):\n",
    "    total_sum = num1 + num2 + num3\n",
    "    average = total_sum / 3\n",
    "    return total_sum, average\n",
    "\n",
    "number1 = float(input(\"Enter the first number: \"))\n",
    "number2 = float(input(\"Enter the second number: \"))\n",
    "number3 = float(input(\"Enter the third number: \"))\n",
    "\n",
    "sum_of_numbers, avg_of_numbers = calculate_sum_and_average(number1, number2, number3)\n",
    "\n",
    "print(f\"The sum of the three numbers is: {sum_of_numbers}\")\n",
    "print(f\"The average of the three numbers is: {avg_of_numbers}\")\n"
   ]
  },
  {
   "cell_type": "code",
   "execution_count": 5,
   "metadata": {},
   "outputs": [
    {
     "name": "stdout",
     "output_type": "stream",
     "text": [
      "The volume of the sphere with radius 6 cm is: 904.78 cubic cm\n"
     ]
    }
   ],
   "source": [
    "import math\n",
    "\n",
    "def calculate_sphere_volume(radius):\n",
    "    volume = (4/3) * math.pi * (radius ** 3)\n",
    "    return volume\n",
    "\n",
    "radius = 6 \n",
    "\n",
    "volume_of_sphere = calculate_sphere_volume(radius)\n",
    "print(f\"The volume of the sphere with radius {radius} cm is: {volume_of_sphere:.2f} cubic cm\")\n"
   ]
  },
  {
   "cell_type": "code",
   "execution_count": 6,
   "metadata": {},
   "outputs": [
    {
     "name": "stdout",
     "output_type": "stream",
     "text": [
      "The area of the circle with radius 3.0 cm is: 28.27 square cm\n"
     ]
    }
   ],
   "source": [
    "import math\n",
    "\n",
    "def calculate_circle_area(radius):\n",
    "    area = math.pi * (radius ** 2)\n",
    "    return area\n",
    "\n",
    "radius = float(input(\"Enter the radius of the circle: \"))\n",
    "\n",
    "area_of_circle = calculate_circle_area(radius)\n",
    "print(f\"The area of the circle with radius {radius} cm is: {area_of_circle:.2f} square cm\")\n"
   ]
  },
  {
   "cell_type": "code",
   "execution_count": 7,
   "metadata": {},
   "outputs": [
    {
     "name": "stdout",
     "output_type": "stream",
     "text": [
      "The simple interest is: 72.00\n"
     ]
    }
   ],
   "source": [
    "def calculate_simple_interest(principal, rate, time):\n",
    "    simple_interest = (principal * rate * time) / 100\n",
    "    return simple_interest\n",
    "\n",
    "principal = float(input(\"Enter the principal amount: \"))\n",
    "rate = float(input(\"Enter the rate of interest (in %): \"))\n",
    "time = float(input(\"Enter the time period (in years): \"))\n",
    "\n",
    "simple_interest = calculate_simple_interest(principal, rate, time)\n",
    "\n",
    "print(f\"The simple interest is: {simple_interest:.2f}\")\n"
   ]
  },
  {
   "cell_type": "code",
   "execution_count": 8,
   "metadata": {},
   "outputs": [
    {
     "name": "stdout",
     "output_type": "stream",
     "text": [
      "Before swapping: num1 = 2.0, num2 = 3.0\n",
      "After swapping: num1 = 3.0, num2 = 2.0\n"
     ]
    }
   ],
   "source": [
    "num1 = float(input(\"Enter the first number: \"))\n",
    "num2 = float(input(\"Enter the second number: \"))\n",
    "\n",
    "print(f\"Before swapping: num1 = {num1}, num2 = {num2}\")\n",
    "\n",
    "num1 = num1 + num2  \n",
    "num2 = num1 - num2  \n",
    "num1 = num1 - num2 \n",
    "\n",
    "print(f\"After swapping: num1 = {num1}, num2 = {num2}\")\n"
   ]
  },
  {
   "cell_type": "code",
   "execution_count": 9,
   "metadata": {},
   "outputs": [
    {
     "name": "stdout",
     "output_type": "stream",
     "text": [
      "The temperature in Fahrenheit is: 73.40°F\n"
     ]
    }
   ],
   "source": [
    "def celsius_to_fahrenheit(celsius):\n",
    "    fahrenheit = (celsius * 9/5) + 32\n",
    "    return fahrenheit\n",
    "\n",
    "celsius = float(input(\"Enter the temperature in Celsius: \"))\n",
    "\n",
    "fahrenheit = celsius_to_fahrenheit(celsius)\n",
    "\n",
    "print(f\"The temperature in Fahrenheit is: {fahrenheit:.2f}°F\")\n"
   ]
  },
  {
   "cell_type": "code",
   "execution_count": 10,
   "metadata": {},
   "outputs": [
    {
     "name": "stdout",
     "output_type": "stream",
     "text": [
      "1267 days is equivalent to:\n",
      "3 year(s), 5 month(s), 3 week(s), and 1 day(s)\n"
     ]
    }
   ],
   "source": [
    "def convert_days(total_days):\n",
    "    \n",
    "    years = total_days // 365  \n",
    "    remaining_days = total_days % 365  \n",
    "    \n",
    "    months = remaining_days // 30  \n",
    "    remaining_days = remaining_days % 30  \n",
    "    \n",
    "    weeks = remaining_days // 7  \n",
    "    days = remaining_days % 7  \n",
    "    \n",
    "    return years, months, weeks, days\n",
    "\n",
    "total_days = int(input(\"Enter the number of days: \"))\n",
    "\n",
    "years, months, weeks, days = convert_days(total_days)\n",
    "\n",
    "print(f\"{total_days} days is equivalent to:\")\n",
    "print(f\"{years} year(s), {months} month(s), {weeks} week(s), and {days} day(s)\")\n"
   ]
  },
  {
   "cell_type": "code",
   "execution_count": 11,
   "metadata": {},
   "outputs": [
    {
     "name": "stdout",
     "output_type": "stream",
     "text": [
      "The gravitational force between the two objects is: 1.60e-11 N\n"
     ]
    }
   ],
   "source": [
    "def calculate_gravitational_force(m1, m2, r):\n",
    "    G = 6.67430e-11\n",
    "    force = G * (m1 * m2) / (r ** 2)\n",
    "    return force\n",
    "\n",
    "mass1 = float(input(\"Enter the mass of the first object (in kg): \"))\n",
    "mass2 = float(input(\"Enter the mass of the second object (in kg): \"))\n",
    "distance = float(input(\"Enter the distance between the two objects (in meters): \"))\n",
    "\n",
    "gravitational_force = calculate_gravitational_force(mass1, mass2, distance)\n",
    "\n",
    "print(f\"The gravitational force between the two objects is: {gravitational_force:.2e} N\")\n"
   ]
  },
  {
   "cell_type": "code",
   "execution_count": 12,
   "metadata": {},
   "outputs": [
    {
     "name": "stdout",
     "output_type": "stream",
     "text": [
      "The number 3 is Odd.\n"
     ]
    }
   ],
   "source": [
    "def check_even_odd(number):\n",
    "    if number % 2 == 0:\n",
    "        return \"Even\"\n",
    "    else:\n",
    "        return \"Odd\"\n",
    "\n",
    "num = int(input(\"Enter a number: \"))\n",
    "\n",
    "result = check_even_odd(num)\n",
    "\n",
    "print(f\"The number {num} is {result}.\")\n"
   ]
  },
  {
   "cell_type": "code",
   "execution_count": 13,
   "metadata": {},
   "outputs": [
    {
     "name": "stdout",
     "output_type": "stream",
     "text": [
      "The number is greater than 15.\n",
      "Two times the difference is: 38.00\n"
     ]
    }
   ],
   "source": [
    "number = float(input(\"Enter a number: \"))\n",
    "\n",
    "comparison_value = 15\n",
    "\n",
    "difference = number - comparison_value\n",
    "\n",
    "if number > comparison_value:\n",
    "    result = 2 * difference  \n",
    "    print(f\"The number is greater than {comparison_value}.\")\n",
    "    print(f\"Two times the difference is: {result:.2f}\")\n",
    "else:\n",
    "    result = 4 * difference  \n",
    "    print(f\"The number is less than or equal to {comparison_value}.\")\n",
    "    print(f\"Four times the difference is: {result:.2f}\")\n"
   ]
  },
  {
   "cell_type": "code",
   "execution_count": 14,
   "metadata": {},
   "outputs": [
    {
     "name": "stdout",
     "output_type": "stream",
     "text": [
      "The largest among the three numbers is: 5.0\n"
     ]
    }
   ],
   "source": [
    "def find_largest(num1, num2, num3):\n",
    "    if num1 >= num2 and num1 >= num3:\n",
    "        return num1\n",
    "    elif num2 >= num1 and num2 >= num3:\n",
    "        return num2\n",
    "    else:\n",
    "        return num3\n",
    "\n",
    "number1 = float(input(\"Enter the first number: \"))\n",
    "number2 = float(input(\"Enter the second number: \"))\n",
    "number3 = float(input(\"Enter the third number: \"))\n",
    "\n",
    "largest_number = find_largest(number1, number2, number3)\n",
    "\n",
    "print(f\"The largest among the three numbers is: {largest_number}\")\n"
   ]
  },
  {
   "cell_type": "code",
   "execution_count": 15,
   "metadata": {},
   "outputs": [
    {
     "name": "stdout",
     "output_type": "stream",
     "text": [
      "The triangle is: Isosceles triangle\n"
     ]
    }
   ],
   "source": [
    "def triangle_type(side1, side2, side3):\n",
    "    if side1 <= 0 or side2 <= 0 or side3 <= 0:\n",
    "        return \"Invalid triangle sides. All sides must be positive.\"\n",
    "    \n",
    "    if side1 == side2 == side3:\n",
    "        return \"Equilateral triangle\"\n",
    "    elif side1 == side2 or side2 == side3 or side1 == side3:\n",
    "        return \"Isosceles triangle\"\n",
    "    else:\n",
    "        return \"Scalene triangle\"\n",
    "\n",
    "side1 = float(input(\"Enter the length of the first side: \"))\n",
    "side2 = float(input(\"Enter the length of the second side: \"))\n",
    "side3 = float(input(\"Enter the length of the third side: \"))\n",
    "\n",
    "result = triangle_type(side1, side2, side3)\n",
    "\n",
    "print(f\"The triangle is: {result}\")\n"
   ]
  },
  {
   "cell_type": "code",
   "execution_count": 16,
   "metadata": {},
   "outputs": [
    {
     "name": "stdout",
     "output_type": "stream",
     "text": [
      "2024 is a leap year.\n"
     ]
    }
   ],
   "source": [
    "def is_leap_year(year):\n",
    "    if (year % 4 == 0 and year % 100 != 0) or (year % 400 == 0):\n",
    "        return True\n",
    "    else:\n",
    "        return False\n",
    "\n",
    "year = int(input(\"Enter a year: \"))\n",
    "\n",
    "if is_leap_year(year):\n",
    "    print(f\"{year} is a leap year.\")\n",
    "else:\n",
    "    print(f\"{year} is not a leap year.\")\n"
   ]
  },
  {
   "cell_type": "code",
   "execution_count": 17,
   "metadata": {},
   "outputs": [
    {
     "name": "stdout",
     "output_type": "stream",
     "text": [
      "The average marks are: 69.25\n",
      "The grade is: B\n"
     ]
    }
   ],
   "source": [
    "def calculate_grade(marks):\n",
    "    average = sum(marks) / len(marks)  \n",
    "\n",
    "    if average >= 75:\n",
    "        grade = 'A'\n",
    "    elif average >= 60:\n",
    "        grade = 'B'\n",
    "    elif average >= 40:\n",
    "        grade = 'C'\n",
    "    else:\n",
    "        grade = 'D'\n",
    "\n",
    "    return average, grade\n",
    "\n",
    "marks = []\n",
    "for i in range(4):\n",
    "    mark = float(input(f\"Enter marks for subject {i + 1}: \"))\n",
    "    marks.append(mark)\n",
    "\n",
    "average, grade = calculate_grade(marks)\n",
    "\n",
    "print(f\"The average marks are: {average:.2f}\")\n",
    "print(f\"The grade is: {grade}\")\n"
   ]
  },
  {
   "cell_type": "code",
   "execution_count": 18,
   "metadata": {},
   "outputs": [
    {
     "name": "stdout",
     "output_type": "stream",
     "text": [
      "The result is: 5.0\n"
     ]
    }
   ],
   "source": [
    "def calculate(num1, num2, operator):\n",
    "    if operator == '+':\n",
    "        return num1 + num2\n",
    "    elif operator == '-':\n",
    "        return num1 - num2\n",
    "    elif operator == '*':\n",
    "        return num1 * num2\n",
    "    elif operator == '/':\n",
    "        if num2 != 0:\n",
    "            return num1 / num2\n",
    "        else:\n",
    "            return \"Error! Division by zero.\"\n",
    "    else:\n",
    "        return \"Invalid operator.\"\n",
    "\n",
    "num1 = float(input(\"Enter the first number: \"))\n",
    "num2 = float(input(\"Enter the second number: \"))\n",
    "operator = input(\"Enter the operator (+, -, *, /): \")\n",
    "\n",
    "result = calculate(num1, num2, operator)\n",
    "\n",
    "print(f\"The result is: {result}\")\n"
   ]
  },
  {
   "cell_type": "code",
   "execution_count": 20,
   "metadata": {},
   "outputs": [
    {
     "name": "stdout",
     "output_type": "stream",
     "text": [
      "The roots of the quadratic equation are: (-0.25+0.9682458365518543j) and (-0.25-0.9682458365518543j)\n"
     ]
    }
   ],
   "source": [
    "import cmath \n",
    "\n",
    "def find_roots(a, b, c):\n",
    "    discriminant = b**2 - 4*a*c\n",
    "    \n",
    "    root1 = (-b + cmath.sqrt(discriminant)) / (2 * a)\n",
    "    root2 = (-b - cmath.sqrt(discriminant)) / (2 * a)\n",
    "    \n",
    "    return root1, root2\n",
    "\n",
    "a = float(input(\"Enter the coefficient a: \"))\n",
    "b = float(input(\"Enter the coefficient b: \"))\n",
    "c = float(input(\"Enter the coefficient c: \"))\n",
    "\n",
    "if a == 0:\n",
    "    print(\"Coefficient 'a' cannot be zero for a quadratic equation.\")\n",
    "else:\n",
    "    root1, root2 = find_roots(a, b, c)\n",
    "\n",
    "    print(f\"The roots of the quadratic equation are: {root1} and {root2}\")\n"
   ]
  },
  {
   "cell_type": "code",
   "execution_count": 21,
   "metadata": {},
   "outputs": [
    {
     "name": "stdout",
     "output_type": "stream",
     "text": [
      "1\n",
      "2\n",
      "3\n",
      "4\n"
     ]
    }
   ],
   "source": [
    "n = int(input(\"Enter a positive integer n: \"))\n",
    "\n",
    "for i in range(1, n + 1):\n",
    "    print(i)\n"
   ]
  },
  {
   "cell_type": "code",
   "execution_count": 22,
   "metadata": {},
   "outputs": [
    {
     "name": "stdout",
     "output_type": "stream",
     "text": [
      "The sum of natural numbers from 1 to 4 is: 10\n"
     ]
    }
   ],
   "source": [
    "n = int(input(\"Enter a positive integer n: \"))\n",
    "\n",
    "sum_natural = 0\n",
    "\n",
    "for i in range(1, n + 1):\n",
    "    sum_natural += i\n",
    "\n",
    "print(f\"The sum of natural numbers from 1 to {n} is: {sum_natural}\")\n"
   ]
  },
  {
   "cell_type": "code",
   "execution_count": 23,
   "metadata": {},
   "outputs": [
    {
     "name": "stdout",
     "output_type": "stream",
     "text": [
      "The sum of the digits of 1234 is: 10\n"
     ]
    }
   ],
   "source": [
    "def sum_of_digits(number):\n",
    "    total = 0\n",
    "    \n",
    "    while number > 0:\n",
    "        digit = number % 10  \n",
    "        total += digit       \n",
    "        number //= 10      \n",
    "    \n",
    "    return total\n",
    "\n",
    "num = int(input(\"Enter a positive integer: \"))\n",
    "\n",
    "result = sum_of_digits(num)\n",
    "\n",
    "print(f\"The sum of the digits of {num} is: {result}\")\n"
   ]
  },
  {
   "cell_type": "code",
   "execution_count": 24,
   "metadata": {},
   "outputs": [
    {
     "name": "stdout",
     "output_type": "stream",
     "text": [
      "Factors of 5 are:\n",
      "1\n",
      "5\n"
     ]
    }
   ],
   "source": [
    "def print_factors(number):\n",
    "    print(f\"Factors of {number} are:\")\n",
    "    for i in range(1, number + 1):\n",
    "        if number % i == 0:\n",
    "            print(i)\n",
    "\n",
    "num = int(input(\"Enter a positive integer: \"))\n",
    "\n",
    "print_factors(num)"
   ]
  },
  {
   "cell_type": "code",
   "execution_count": 25,
   "metadata": {},
   "outputs": [
    {
     "name": "stdout",
     "output_type": "stream",
     "text": [
      "Reversed Number: 5432\n"
     ]
    }
   ],
   "source": [
    "def reverse_number(num):\n",
    "    reversed_num = str(num)[::-1]\n",
    "    return int(reversed_num)  \n",
    "\n",
    "number = int(input(\"Enter a number: \"))\n",
    "reversed_number = reverse_number(number)\n",
    "print(\"Reversed Number:\", reversed_number)\n"
   ]
  },
  {
   "cell_type": "code",
   "execution_count": 26,
   "metadata": {},
   "outputs": [
    {
     "name": "stdout",
     "output_type": "stream",
     "text": [
      "Factorial (Iterative): 120\n"
     ]
    }
   ],
   "source": [
    "def factorial_iterative(n):\n",
    "    if n < 0:\n",
    "        return \"Factorial is not defined for negative numbers.\"\n",
    "    result = 1\n",
    "    for i in range(2, n + 1):\n",
    "        result *= i\n",
    "    return result\n",
    "\n",
    "number = int(input(\"Enter a number: \"))\n",
    "print(\"Factorial (Iterative):\", factorial_iterative(number))\n"
   ]
  },
  {
   "cell_type": "code",
   "execution_count": 27,
   "metadata": {},
   "outputs": [
    {
     "name": "stdout",
     "output_type": "stream",
     "text": [
      "121 is a palindrome.\n"
     ]
    }
   ],
   "source": [
    "def is_palindrome(num):\n",
    "    str_num = str(num)\n",
    "    return str_num == str_num[::-1]\n",
    "\n",
    "number = int(input(\"Enter a number: \"))\n",
    "if is_palindrome(number):\n",
    "    print(f\"{number} is a palindrome.\")\n",
    "else:\n",
    "    print(f\"{number} is not a palindrome.\")\n"
   ]
  },
  {
   "cell_type": "code",
   "execution_count": 29,
   "metadata": {},
   "outputs": [
    {
     "name": "stdout",
     "output_type": "stream",
     "text": [
      "17 is a prime number.\n"
     ]
    }
   ],
   "source": [
    "def is_prime(num):\n",
    "    if num <= 1:\n",
    "        return False \n",
    "    for i in range(2, int(num**0.5) + 1):\n",
    "        if num % i == 0:\n",
    "            return False  \n",
    "    return True  \n",
    "\n",
    "number = int(input(\"Enter a number: \"))\n",
    "if is_prime(number):\n",
    "    print(f\"{number} is a prime number.\")\n",
    "else:\n",
    "    print(f\"{number} is not a prime number.\")\n"
   ]
  },
  {
   "cell_type": "code",
   "execution_count": 30,
   "metadata": {},
   "outputs": [
    {
     "name": "stdout",
     "output_type": "stream",
     "text": [
      "153 is an Armstrong number.\n"
     ]
    }
   ],
   "source": [
    "def is_armstrong(num):\n",
    "    str_num = str(num)\n",
    "    num_digits = len(str_num)\n",
    "    \n",
    "    sum_of_powers = sum(int(digit) ** num_digits for digit in str_num)\n",
    "    \n",
    "    return sum_of_powers == num\n",
    "\n",
    "number = int(input(\"Enter a number: \"))\n",
    "if is_armstrong(number):\n",
    "    print(f\"{number} is an Armstrong number.\")\n",
    "else:\n",
    "    print(f\"{number} is not an Armstrong number.\")\n"
   ]
  },
  {
   "cell_type": "code",
   "execution_count": 31,
   "metadata": {},
   "outputs": [
    {
     "name": "stdout",
     "output_type": "stream",
     "text": [
      "Fibonacci series:\n",
      "[0, 1, 1, 2, 3, 5, 8, 13, 21, 34]\n"
     ]
    }
   ],
   "source": [
    "def fibonacci_series(n):\n",
    "    fib_series = []\n",
    "    a, b = 0, 1  \n",
    "    for _ in range(n):\n",
    "        fib_series.append(a)\n",
    "        a, b = b, a + b  \n",
    "    return fib_series\n",
    "\n",
    "n = int(input(\"Enter the number of terms in the Fibonacci series: \"))\n",
    "if n <= 0:\n",
    "    print(\"Please enter a positive integer.\")\n",
    "else:\n",
    "    print(\"Fibonacci series:\")\n",
    "    print(fibonacci_series(n))\n"
   ]
  },
  {
   "cell_type": "code",
   "execution_count": 36,
   "metadata": {},
   "outputs": [
    {
     "name": "stdout",
     "output_type": "stream",
     "text": [
      "Multiplication Table for 3:\n",
      "3 x 1 = 3\n",
      "3 x 2 = 6\n",
      "3 x 3 = 9\n",
      "3 x 4 = 12\n",
      "3 x 5 = 15\n",
      "3 x 6 = 18\n",
      "3 x 7 = 21\n",
      "3 x 8 = 24\n",
      "3 x 9 = 27\n",
      "3 x 10 = 30\n"
     ]
    }
   ],
   "source": [
    "def multiplication_table(num, terms=10):\n",
    "    print(f\"Multiplication Table for {num}:\")\n",
    "    for i in range(1, terms + 1):\n",
    "        print(f\"{num} x {i} = {num * i}\")\n",
    "\n",
    "number = int(input(\"Enter a number to display its multiplication table: \"))\n",
    "terms = int(input(\"Enter the number of terms for the multiplication table (default is 10): \") or 10)\n",
    "\n",
    "multiplication_table(number, terms)\n"
   ]
  },
  {
   "cell_type": "code",
   "execution_count": 38,
   "metadata": {},
   "outputs": [
    {
     "name": "stdout",
     "output_type": "stream",
     "text": [
      "The list you entered is: ['1,2,3,4']\n"
     ]
    }
   ],
   "source": [
    "def input_list():\n",
    "    user_input = input(\"Enter elements of the list separated by spaces: \")\n",
    "    input_list = user_input.split()\n",
    "    return input_list\n",
    "\n",
    "user_list = input_list()\n",
    "\n",
    "print(\"The list you entered is:\", user_list)\n"
   ]
  },
  {
   "cell_type": "code",
   "execution_count": 44,
   "metadata": {},
   "outputs": [
    {
     "name": "stdout",
     "output_type": "stream",
     "text": [
      "The average of the entered numbers is: 3.0\n"
     ]
    }
   ],
   "source": [
    "def calculate_average(numbers):\n",
    "    return sum(numbers) / len(numbers) if numbers else 0\n",
    "\n",
    "def input_numbers():\n",
    "    user_input = input(\"Enter numbers separated by spaces: \")\n",
    "    input_list = [float(num) for num in user_input.split()]\n",
    "    return input_list\n",
    "\n",
    "numbers = input_numbers()\n",
    "\n",
    "average = calculate_average(numbers)\n",
    "print(\"The average of the entered numbers is:\", average)\n"
   ]
  },
  {
   "cell_type": "code",
   "execution_count": 45,
   "metadata": {},
   "outputs": [
    {
     "name": "stdout",
     "output_type": "stream",
     "text": [
      "The largest element in the list is: 77.0\n"
     ]
    }
   ],
   "source": [
    "def find_largest(numbers):\n",
    "    if not numbers:\n",
    "        return None  \n",
    "    largest = numbers[0]  \n",
    "    for num in numbers:\n",
    "        if num > largest:\n",
    "            largest = num  \n",
    "    return largest\n",
    "\n",
    "def input_numbers():\n",
    "    user_input = input(\"Enter numbers separated by spaces: \")\n",
    "    input_list = [float(num) for num in user_input.split()]\n",
    "    return input_list\n",
    "\n",
    "numbers = input_numbers()\n",
    "\n",
    "largest_element = find_largest(numbers)\n",
    "if largest_element is not None:\n",
    "    print(\"The largest element in the list is:\", largest_element)\n",
    "else:\n",
    "    print(\"The list is empty.\")\n"
   ]
  },
  {
   "cell_type": "code",
   "execution_count": 46,
   "metadata": {},
   "outputs": [
    {
     "name": "stdout",
     "output_type": "stream",
     "text": [
      "The number 3 is found at index 2.\n"
     ]
    }
   ],
   "source": [
    "def linear_search(arr, target):\n",
    "    for index, value in enumerate(arr):\n",
    "        if value == target:\n",
    "            return index \n",
    "    return -1  \n",
    "\n",
    "def input_numbers():\n",
    "    user_input = input(\"Enter numbers separated by spaces: \")\n",
    "    input_list = [int(num) for num in user_input.split()]\n",
    "    return input_list\n",
    "\n",
    "numbers = input_numbers()\n",
    "\n",
    "target = int(input(\"Enter the number to search for: \"))\n",
    "\n",
    "result = linear_search(numbers, target)\n",
    "\n",
    "if result != -1:\n",
    "    print(f\"The number {target} is found at index {result}.\")\n",
    "else:\n",
    "    print(f\"The number {target} is not found in the list.\")\n"
   ]
  },
  {
   "cell_type": "code",
   "execution_count": 47,
   "metadata": {},
   "outputs": [
    {
     "name": "stdout",
     "output_type": "stream",
     "text": [
      "Enter lines of text (press 'Enter' twice to stop):\n",
      "HELLO WORLD\n",
      "PRACTICE MAKES PERFECT\n"
     ]
    }
   ],
   "source": [
    "def capitalize_lines():\n",
    "    print(\"Enter lines of text (press 'Enter' twice to stop):\")\n",
    "    lines = []\n",
    "    \n",
    "    while True:\n",
    "        line = input()\n",
    "        if line == \"\":  \n",
    "            break\n",
    "        lines.append(line)\n",
    "\n",
    "    for line in lines:\n",
    "        print(line.upper())\n",
    "\n",
    "capitalize_lines()\n"
   ]
  },
  {
   "cell_type": "code",
   "execution_count": 50,
   "metadata": {},
   "outputs": [
    {
     "name": "stdout",
     "output_type": "stream",
     "text": [
      "List: ['34', '67', '55', '33', '12', '98']\n",
      "Tuple: ('34', '67', '55', '33', '12', '98')\n"
     ]
    }
   ],
   "source": [
    "def generate_list_and_tuple():\n",
    "    user_input = input(\"Enter a sequence of comma-separated numbers: \")\n",
    "    \n",
    "    number_list = user_input.split(\",\")\n",
    "    \n",
    "    number_tuple = tuple(number_list)\n",
    "    \n",
    "    print(\"List:\", number_list)\n",
    "    print(\"Tuple:\", number_tuple)\n",
    "generate_list_and_tuple()\n"
   ]
  },
  {
   "cell_type": "code",
   "execution_count": 49,
   "metadata": {},
   "outputs": [
    {
     "name": "stdout",
     "output_type": "stream",
     "text": [
      "Enter transaction log (D for deposit, W for withdrawal, enter 'done' to finish):\n",
      "Net Amount: 500\n"
     ]
    }
   ],
   "source": [
    "def compute_net_amount():\n",
    "    net_amount = 0\n",
    "    print(\"Enter transaction log (D for deposit, W for withdrawal, enter 'done' to finish):\")\n",
    "    \n",
    "    while True:\n",
    "        transaction = input()\n",
    "        if transaction.lower() == 'done':  \n",
    "            break\n",
    "        \n",
    "        action, amount = transaction.split()\n",
    "        amount = int(amount)  \n",
    "        \n",
    "        if action.upper() == 'D':\n",
    "            net_amount += amount  \n",
    "        elif action.upper() == 'W':\n",
    "            net_amount -= amount  \n",
    "\n",
    "    print(\"Net Amount:\", net_amount)\n",
    "\n",
    "compute_net_amount()\n"
   ]
  }
 ],
 "metadata": {
  "kernelspec": {
   "display_name": "base",
   "language": "python",
   "name": "python3"
  },
  "language_info": {
   "codemirror_mode": {
    "name": "ipython",
    "version": 3
   },
   "file_extension": ".py",
   "mimetype": "text/x-python",
   "name": "python",
   "nbconvert_exporter": "python",
   "pygments_lexer": "ipython3",
   "version": "3.11.5"
  }
 },
 "nbformat": 4,
 "nbformat_minor": 2
}
